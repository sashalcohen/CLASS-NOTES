{
 "cells": [
  {
   "cell_type": "markdown",
   "metadata": {
    "id": "tQHRcUlBeieU"
   },
   "source": [
    "# And now introducing Pandas..."
   ]
  },
  {
   "cell_type": "markdown",
   "metadata": {
    "id": "sPvbJUgteieV"
   },
   "source": [
    "- Named after a cute animal?\n",
    "- Open source (free) Python library.\n",
    "- Most widely used package for data analysis.\n",
    "- Future-proof: used for AI and machine learning tasks."
   ]
  },
  {
   "cell_type": "markdown",
   "metadata": {
    "id": "IVIJxX5YTfmm"
   },
   "source": [
    "## Pandas in action\n",
    "\n",
    "\n",
    "### **<a href=\"https://www.bloomberg.com/graphics/2022-wells-fargo-black-home-loan-refinancing/\">Wells Fargo Rejected Half Its Black Applicants in Mortgage Refinancing Boom</a>**\n",
    "\n",
    "To report this investigation, we had to scour 8 million records obtained through the Home Mortgage Disclosure Act, for completed applications to refinance conventional loans in 2020. The size of the dataset, the convoluted racial breakdown categories, the types of loans etc were overwhelming. Using Python was the only way to categorize the data to find that:\n",
    "\n",
    "> While Black applicants had lower approval rates than White ones at all major lenders, the data show, Wells Fargo had the biggest disparity and was alone in rejecting more Black homeowners than it accepted...Wells Fargo, which declined to comment about individual customers, didn’t dispute Bloomberg’s statistical findings.\n",
    "\n",
    "**-- Ann Choi**, Data Investigative Reporter @Bloomberg\n",
    "\n",
    "\n",
    "\n",
    "\n",
    "\n",
    "\n",
    "\n",
    "\n"
   ]
  },
  {
   "cell_type": "markdown",
   "metadata": {
    "id": "eoxby-SPBCjT"
   },
   "source": [
    "# Import & Explore\n",
    "\n",
    "Before we can analyze data, we have to learn how to:\n",
    "\n",
    "- import different types of spreadsheet files,\n",
    "- get a quick sense of what our data holds,\n",
    "- explore different sections of our data in Pandas context."
   ]
  },
  {
   "cell_type": "markdown",
   "metadata": {
    "id": "H15_HoboL_ii"
   },
   "source": [
    "## Import Pandas\n",
    "\n",
    "Unlike the pure Python we've written so far, we have to import Pandas which brings ALL its functionality into our iPython Notebook (```.ipynb```).\n"
   ]
  },
  {
   "cell_type": "code",
   "execution_count": null,
   "metadata": {
    "id": "QQRPuja6eieW"
   },
   "outputs": [],
   "source": [
    "## import pandas\n"
   ]
  },
  {
   "cell_type": "markdown",
   "metadata": {
    "id": "64zvOr8_MGUL"
   },
   "source": [
    "## Import CVS data into our notebook\n",
    "\n",
    "<a href=\"https://drive.google.com/file/d/1ONMD9surl8Ulu-BKCepe4V1Lt_JHIyaP/view?usp=sharing\">Download this folder data</a> and <a href=\"https://drive.google.com/file/d/1Y_yAzd2g_0pqh4jvGV0zGPaDVQosZBIv/view?usp=sharing\">this file</a>. \n",
    "\n",
    "Place them in the correct location. This is imperative."
   ]
  },
  {
   "cell_type": "markdown",
   "metadata": {
    "id": "dvFmrkip43C9"
   },
   "source": [
    "### Read a CSV file into your notebook\n",
    "\n",
    "#### Bring in ```insurance.csv``` into Pandas\n",
    "\n",
    "- You must provide a ```path``` to the file you are importing.\n",
    "\n",
    "Syntax: ```pd.read_csv(\"path_to_file\")```"
   ]
  },
  {
   "cell_type": "code",
   "execution_count": null,
   "metadata": {
    "colab": {
     "base_uri": "https://localhost:8080/",
     "height": 424
    },
    "executionInfo": {
     "elapsed": 315,
     "status": "ok",
     "timestamp": 1707931729780,
     "user": {
      "displayName": "Sandeep Junnarkar",
      "userId": "15658885848901522782"
     },
     "user_tz": 300
    },
    "id": "IizhF__t40NM",
    "outputId": "e6e40858-b293-49da-9833-c39a38862424"
   },
   "outputs": [],
   "source": [
    "## simply read the csv file when data file is at the same level\n"
   ]
  },
  {
   "cell_type": "code",
   "execution_count": null,
   "metadata": {
    "colab": {
     "base_uri": "https://localhost:8080/",
     "height": 444
    },
    "executionInfo": {
     "elapsed": 271,
     "status": "ok",
     "timestamp": 1707931639269,
     "user": {
      "displayName": "Sandeep Junnarkar",
      "userId": "15658885848901522782"
     },
     "user_tz": 300
    },
    "id": "yH_sH_f1eieX",
    "outputId": "ed5fbd16-5c85-4060-f4cc-d19e7ba071b4"
   },
   "outputs": [],
   "source": [
    "## simply read the csv file when data file is in a different folder\n",
    "## provide the path\n",
    "\n"
   ]
  },
  {
   "cell_type": "markdown",
   "metadata": {
    "id": "ggzzmH7geieX"
   },
   "source": [
    "### Read and hold CSV content into a ```dataframe```\n",
    "\n",
    "The naming convention is to call it a ```df```"
   ]
  },
  {
   "cell_type": "code",
   "execution_count": null,
   "metadata": {
    "id": "Vk_1QahueieX"
   },
   "outputs": [],
   "source": [
    "## read and store csv in a dataframe\n",
    "\n"
   ]
  },
  {
   "cell_type": "markdown",
   "metadata": {
    "id": "hVVFZkQ5eieX"
   },
   "source": [
    "## Explore our dataframe"
   ]
  },
  {
   "cell_type": "code",
   "execution_count": null,
   "metadata": {
    "colab": {
     "base_uri": "https://localhost:8080/",
     "height": 424
    },
    "executionInfo": {
     "elapsed": 275,
     "status": "ok",
     "timestamp": 1707931803138,
     "user": {
      "displayName": "Sandeep Junnarkar",
      "userId": "15658885848901522782"
     },
     "user_tz": 300
    },
    "id": "IPUlKwNneieY",
    "outputId": "76f5b4b3-825e-4262-93e7-923a15cbfcbe"
   },
   "outputs": [],
   "source": [
    "## call the df\n",
    "## returns the first 5 and last 5 rows\n"
   ]
  },
  {
   "cell_type": "code",
   "execution_count": null,
   "metadata": {
    "colab": {
     "base_uri": "https://localhost:8080/",
     "height": 206
    },
    "executionInfo": {
     "elapsed": 305,
     "status": "ok",
     "timestamp": 1707931912057,
     "user": {
      "displayName": "Sandeep Junnarkar",
      "userId": "15658885848901522782"
     },
     "user_tz": 300
    },
    "id": "lYkZ0ByVeieY",
    "outputId": "de008171-d931-4545-bf6d-9a1565f4daa5"
   },
   "outputs": [],
   "source": [
    "## call the top only\n",
    "## returns first 5\n"
   ]
  },
  {
   "cell_type": "code",
   "execution_count": null,
   "metadata": {
    "colab": {
     "base_uri": "https://localhost:8080/",
     "height": 426
    },
    "executionInfo": {
     "elapsed": 332,
     "status": "ok",
     "timestamp": 1707931944102,
     "user": {
      "displayName": "Sandeep Junnarkar",
      "userId": "15658885848901522782"
     },
     "user_tz": 300
    },
    "id": "ZKbKhwAveieY",
    "outputId": "82f5e533-af62-42e9-a41f-d5871d661a18"
   },
   "outputs": [],
   "source": [
    "## call the top n rows\n"
   ]
  },
  {
   "cell_type": "code",
   "execution_count": null,
   "metadata": {
    "colab": {
     "base_uri": "https://localhost:8080/",
     "height": 206
    },
    "executionInfo": {
     "elapsed": 481,
     "status": "ok",
     "timestamp": 1707931993774,
     "user": {
      "displayName": "Sandeep Junnarkar",
      "userId": "15658885848901522782"
     },
     "user_tz": 300
    },
    "id": "nbFsLb_reieY",
    "outputId": "8869237e-4983-4e3d-81c9-a28b731503fa"
   },
   "outputs": [],
   "source": [
    "## call the last 5\n"
   ]
  },
  {
   "cell_type": "code",
   "execution_count": null,
   "metadata": {
    "colab": {
     "base_uri": "https://localhost:8080/",
     "height": 206
    },
    "executionInfo": {
     "elapsed": 306,
     "status": "ok",
     "timestamp": 1707932052703,
     "user": {
      "displayName": "Sandeep Junnarkar",
      "userId": "15658885848901522782"
     },
     "user_tz": 300
    },
    "id": "YBfhLg2DeieY",
    "outputId": "0b68d05b-5afc-4731-bdd9-7ba51896d31c"
   },
   "outputs": [],
   "source": [
    "## call the last n\n"
   ]
  },
  {
   "cell_type": "code",
   "execution_count": null,
   "metadata": {
    "colab": {
     "base_uri": "https://localhost:8080/",
     "height": 677
    },
    "executionInfo": {
     "elapsed": 281,
     "status": "ok",
     "timestamp": 1707932177921,
     "user": {
      "displayName": "Sandeep Junnarkar",
      "userId": "15658885848901522782"
     },
     "user_tz": 300
    },
    "id": "PTIgg3zgeieY",
    "outputId": "51c8ab3a-4601-4cfa-ccd5-77d978bebe37"
   },
   "outputs": [],
   "source": [
    "## call a random sample n number of rows\n"
   ]
  },
  {
   "cell_type": "code",
   "execution_count": null,
   "metadata": {
    "colab": {
     "base_uri": "https://localhost:8080/"
    },
    "executionInfo": {
     "elapsed": 311,
     "status": "ok",
     "timestamp": 1707932248841,
     "user": {
      "displayName": "Sandeep Junnarkar",
      "userId": "15658885848901522782"
     },
     "user_tz": 300
    },
    "id": "rs3-DheOeieY",
    "outputId": "9bd15853-a645-4964-88bd-00eb6b948e55"
   },
   "outputs": [],
   "source": [
    "## get basic overview of the data\n",
    "# type(df)\n",
    "\n"
   ]
  },
  {
   "cell_type": "markdown",
   "metadata": {
    "id": "SgA4tAyc7Vr2"
   },
   "source": [
    "## Importing a simple Excel file\n",
    "\n",
    "Bring in ```global_life.xlsx``` into Pandas"
   ]
  },
  {
   "cell_type": "code",
   "execution_count": null,
   "metadata": {
    "colab": {
     "base_uri": "https://localhost:8080/",
     "height": 424
    },
    "executionInfo": {
     "elapsed": 1157,
     "status": "ok",
     "timestamp": 1707932516841,
     "user": {
      "displayName": "Sandeep Junnarkar",
      "userId": "15658885848901522782"
     },
     "user_tz": 300
    },
    "id": "8V8A7FMC7Xqs",
    "outputId": "265f1bb1-c220-4671-ecd7-151a78a95da3"
   },
   "outputs": [],
   "source": [
    "## step 1. confirm that read returns a df\n",
    "## step 2. place it into a df, call the df\n"
   ]
  },
  {
   "cell_type": "code",
   "execution_count": null,
   "metadata": {
    "colab": {
     "base_uri": "https://localhost:8080/",
     "height": 520
    },
    "executionInfo": {
     "elapsed": 360,
     "status": "ok",
     "timestamp": 1707932545292,
     "user": {
      "displayName": "Sandeep Junnarkar",
      "userId": "15658885848901522782"
     },
     "user_tz": 300
    },
    "id": "nrD6L2BAeieZ",
    "outputId": "c9e571b5-e26b-4a60-eb5f-a740792b7c6c"
   },
   "outputs": [],
   "source": [
    "## call the top 15 values\n"
   ]
  },
  {
   "cell_type": "code",
   "execution_count": null,
   "metadata": {
    "colab": {
     "base_uri": "https://localhost:8080/",
     "height": 143
    },
    "executionInfo": {
     "elapsed": 309,
     "status": "ok",
     "timestamp": 1707932566536,
     "user": {
      "displayName": "Sandeep Junnarkar",
      "userId": "15658885848901522782"
     },
     "user_tz": 300
    },
    "id": "aFFuzR5EeieZ",
    "outputId": "aa1fd4a7-fb43-4d24-c093-4a646a616eae"
   },
   "outputs": [],
   "source": [
    "## call the last 3 values\n"
   ]
  },
  {
   "cell_type": "code",
   "execution_count": null,
   "metadata": {
    "colab": {
     "base_uri": "https://localhost:8080/",
     "height": 457
    },
    "executionInfo": {
     "elapsed": 313,
     "status": "ok",
     "timestamp": 1707932585103,
     "user": {
      "displayName": "Sandeep Junnarkar",
      "userId": "15658885848901522782"
     },
     "user_tz": 300
    },
    "id": "-jc2BX4LeieZ",
    "outputId": "9299ffb2-58d8-4fe2-8a7d-2e0e662ee242"
   },
   "outputs": [],
   "source": [
    "## show 13 random rows\n"
   ]
  },
  {
   "cell_type": "markdown",
   "metadata": {
    "id": "E0EcSK-ZNR-p"
   },
   "source": [
    "## Read a specific sheet in an Excel file\n",
    "\n",
    "From ```global_life.xlsx```, import only ```global life expectancy``` sheet (Target  from an .xlsx file)"
   ]
  },
  {
   "cell_type": "code",
   "execution_count": null,
   "metadata": {
    "colab": {
     "base_uri": "https://localhost:8080/",
     "height": 982
    },
    "executionInfo": {
     "elapsed": 445,
     "status": "ok",
     "timestamp": 1707932756090,
     "user": {
      "displayName": "Sandeep Junnarkar",
      "userId": "15658885848901522782"
     },
     "user_tz": 300
    },
    "id": "8HVv_qI2eieZ",
    "outputId": "b73f901a-f378-41eb-b43f-1c6ee1d8e438"
   },
   "outputs": [],
   "source": [
    "## read the excel file and provide the sheet_name parameter\n"
   ]
  },
  {
   "cell_type": "code",
   "execution_count": null,
   "metadata": {
    "colab": {
     "base_uri": "https://localhost:8080/",
     "height": 982
    },
    "executionInfo": {
     "elapsed": 775,
     "status": "ok",
     "timestamp": 1707932847454,
     "user": {
      "displayName": "Sandeep Junnarkar",
      "userId": "15658885848901522782"
     },
     "user_tz": 300
    },
    "id": "ghD4bqxeNgjW",
    "outputId": "b8882261-dfc1-4d24-d903-f09a397ecb46"
   },
   "outputs": [],
   "source": [
    "## read the excel file and provide the sheet_name parameter\n"
   ]
  },
  {
   "cell_type": "markdown",
   "metadata": {
    "id": "zjFvAoTXeieZ"
   },
   "source": [
    "## Special import cases\n",
    "\n",
    "Import the sheet ```FY18 Business``` from ```sba-disaster-loans-18.xlsx```."
   ]
  },
  {
   "cell_type": "code",
   "execution_count": null,
   "metadata": {
    "colab": {
     "base_uri": "https://localhost:8080/",
     "height": 704
    },
    "executionInfo": {
     "elapsed": 593,
     "status": "ok",
     "timestamp": 1707933228402,
     "user": {
      "displayName": "Sandeep Junnarkar",
      "userId": "15658885848901522782"
     },
     "user_tz": 300
    },
    "id": "rN253dmxeiea",
    "outputId": "88892df2-fb30-4fa7-9f97-bcd56317157e"
   },
   "outputs": [],
   "source": [
    "## import here\n",
    "## what do you that's not right?\n"
   ]
  },
  {
   "cell_type": "markdown",
   "metadata": {
    "id": "DrwLv5f7UXi2"
   },
   "source": [
    "## Read a specific sheet in an Excel file but **this time skip the first few rows of formatting**\n",
    "\n",
    "From ```SBA_Disaster_Loan_Data_FY18.xlsx```, import ```FY18 Business``` sheet (You have to skip the first 5 rows)\n"
   ]
  },
  {
   "cell_type": "code",
   "execution_count": null,
   "metadata": {
    "colab": {
     "base_uri": "https://localhost:8080/",
     "height": 617
    },
    "executionInfo": {
     "elapsed": 749,
     "status": "ok",
     "timestamp": 1707933391854,
     "user": {
      "displayName": "Sandeep Junnarkar",
      "userId": "15658885848901522782"
     },
     "user_tz": 300
    },
    "id": "JvbYfwK7U13v",
    "outputId": "7d8ada2d-c7b6-4b91-d4ac-89aca7a8e4f2"
   },
   "outputs": [],
   "source": [
    "## read the excel file, provide the sheet_name parameter AND the skiprows parameter\n",
    "## once it works, store in df\n"
   ]
  },
  {
   "cell_type": "markdown",
   "metadata": {
    "id": "_PNuqWCbAH0o"
   },
   "source": [
    "## Congratulations!\n",
    "You just learned to:\n",
    "\n",
    "- import different types of spreadsheet files,\n",
    "- get a quick sense of what our data holds,\n",
    "\n",
    "\n",
    "These are steps you will take almost everytime."
   ]
  },
  {
   "cell_type": "code",
   "execution_count": null,
   "metadata": {
    "id": "QNKuR0ye95EX"
   },
   "outputs": [],
   "source": []
  }
 ],
 "metadata": {
  "celltoolbar": "Slideshow",
  "colab": {
   "provenance": [
    {
     "file_id": "1sexw9Djk-RJJqFv3mWQt3fbflCD6yMp9",
     "timestamp": 1707924989577
    },
    {
     "file_id": "15z5u2lcwy512twF4tIzwRMQIGV5VCibM",
     "timestamp": 1707843295606
    },
    {
     "file_id": "1oV2qnOdMnjs0SbzcSoThLIOTYVu7VH8e",
     "timestamp": 1675953221962
    }
   ]
  },
  "kernelspec": {
   "display_name": "Python 3 (ipykernel)",
   "language": "python",
   "name": "python3"
  },
  "language_info": {
   "codemirror_mode": {
    "name": "ipython",
    "version": 3
   },
   "file_extension": ".py",
   "mimetype": "text/x-python",
   "name": "python",
   "nbconvert_exporter": "python",
   "pygments_lexer": "ipython3",
   "version": "3.9.7"
  }
 },
 "nbformat": 4,
 "nbformat_minor": 1
}
